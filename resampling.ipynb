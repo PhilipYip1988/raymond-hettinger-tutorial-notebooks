{
 "cells": [
  {
   "cell_type": "markdown",
   "id": "3b8be9f9-9aad-4a18-ab04-7a3f0ff0a0da",
   "metadata": {},
   "source": [
    "# Resampling"
   ]
  },
  {
   "cell_type": "markdown",
   "id": "89841d8b-0121-410d-85b1-e72f43157bb1",
   "metadata": {},
   "source": [
    "Big Idea: Statistics modelled in a program are easier to get right and understand than a formulaic approach. It also extends to more complicated situations."
   ]
  },
  {
   "cell_type": "markdown",
   "id": "240257f0-027a-4a05-b6fa-679041fd9ce1",
   "metadata": {},
   "source": [
    "Topics to prepare for resampling:\n",
    "* f-strings\n",
    "* ```Counter()```, ```most_common```, ```elements```\n",
    "* Statistics\n",
    "* Random: ```seed```, ```gauss```, ```triangular```, ```expovariate```, ```choice```, ```choices```, ```sample```, ```shuffle```\n",
    "* Review: list concatenation, slicing, index/count, ```sorted()```\n",
    "* Review: lambda expressions and chained comparisons"
   ]
  },
  {
   "cell_type": "markdown",
   "id": "bd9de75f-f4cb-491b-b236-ab56ae73a00a",
   "metadata": {},
   "source": [
    "# F-Strings"
   ]
  },
  {
   "cell_type": "markdown",
   "id": "a464420b-2e1c-44ea-93e6-1cfa602bf205",
   "metadata": {},
   "source": [
    "## %-formating"
   ]
  },
  {
   "cell_type": "markdown",
   "id": "77cc0139-2a26-4ab0-a50b-092af47f5cbd",
   "metadata": {},
   "source": [
    "The classic style of formatting uses percents ```%``` for placeholders in the templates."
   ]
  },
  {
   "cell_type": "code",
   "execution_count": 1,
   "id": "fd75448e-6391-4960-b753-cea9813e1bd9",
   "metadata": {},
   "outputs": [],
   "source": [
    "x = 10"
   ]
  },
  {
   "cell_type": "code",
   "execution_count": 2,
   "id": "eab8e3c3-6739-4a68-b606-8639006a3eef",
   "metadata": {},
   "outputs": [
    {
     "data": {
      "text/plain": [
       "'The answer is 10 today'"
      ]
     },
     "execution_count": 2,
     "metadata": {},
     "output_type": "execute_result"
    }
   ],
   "source": [
    "\"The answer is %d today\" % x"
   ]
  },
  {
   "cell_type": "markdown",
   "id": "bb80b97b-263e-46c1-9816-6ad7315e3bf1",
   "metadata": {},
   "source": [
    "After the string, the ```%``` operator is used followed by the variable to be inserted."
   ]
  },
  {
   "cell_type": "code",
   "execution_count": 3,
   "id": "f9d9e5e8-4b11-465e-80ff-f885b4a9a9dd",
   "metadata": {},
   "outputs": [],
   "source": [
    "x = 10\n",
    "y = 10\n",
    "z = 20"
   ]
  },
  {
   "cell_type": "code",
   "execution_count": 4,
   "id": "239eb9e1-6189-47d5-a9d3-c3f5d9d5c5e7",
   "metadata": {},
   "outputs": [
    {
     "data": {
      "text/plain": [
       "'10 plus 10 is 20'"
      ]
     },
     "execution_count": 4,
     "metadata": {},
     "output_type": "execute_result"
    }
   ],
   "source": [
    "\"%d plus %d is %d\" % (x, y, z)"
   ]
  },
  {
   "cell_type": "markdown",
   "id": "54988512-c0df-4a8a-8e21-df38766dd269",
   "metadata": {},
   "source": [
    "## .format()"
   ]
  },
  {
   "cell_type": "markdown",
   "id": "bdcb4ec3-2976-4712-b15d-185b90f9a988",
   "metadata": {},
   "source": [
    "The newer style of formatting changes quite a bit and we place an integer placeholder within the string alongside a positional input argument to the string method ```format```:"
   ]
  },
  {
   "cell_type": "code",
   "execution_count": 5,
   "id": "9abfdebc-055a-4733-9d19-ad4ebe85754b",
   "metadata": {},
   "outputs": [],
   "source": [
    "x = 10"
   ]
  },
  {
   "cell_type": "code",
   "execution_count": 6,
   "id": "e464039c-1f3c-425b-9496-0778e268be3b",
   "metadata": {},
   "outputs": [
    {
     "data": {
      "text/plain": [
       "'The answer is 10 today'"
      ]
     },
     "execution_count": 6,
     "metadata": {},
     "output_type": "execute_result"
    }
   ],
   "source": [
    "\"The answer is {0} today\".format(x)"
   ]
  },
  {
   "cell_type": "markdown",
   "id": "a1ba47df-12c6-4d04-bdc5-d332afcc2922",
   "metadata": {},
   "source": [
    "One thing that we don't like about this approach is that a numeric positional argument ```0``` is used inside the template, instead of the name of the variable ```x```, so we can improve this just a little bit by using keyword arguments."
   ]
  },
  {
   "cell_type": "code",
   "execution_count": 7,
   "id": "d2fca41a-5cbb-4cf8-b0c3-f00264abe760",
   "metadata": {},
   "outputs": [
    {
     "data": {
      "text/plain": [
       "'The answer is 10 today'"
      ]
     },
     "execution_count": 7,
     "metadata": {},
     "output_type": "execute_result"
    }
   ],
   "source": [
    "\"The answer is {x} today\".format(x=x)"
   ]
  },
  {
   "cell_type": "code",
   "execution_count": 8,
   "id": "b952fca2-6d82-4850-91b3-882f4d008f30",
   "metadata": {},
   "outputs": [
    {
     "data": {
      "text/plain": [
       "'The answer is 0 today'"
      ]
     },
     "execution_count": 8,
     "metadata": {},
     "output_type": "execute_result"
    }
   ],
   "source": [
    "\"The answer is {x} today\".format(x=0)"
   ]
  },
  {
   "cell_type": "markdown",
   "id": "0da73acd-d911-49a7-861f-131169a8cbf7",
   "metadata": {},
   "source": [
    "And so that's the new string style formatting. It's really nice, once you get used to it, it'll become your preferred style of formatting."
   ]
  },
  {
   "cell_type": "markdown",
   "id": "fb1e9a08-6c6b-495f-a0ee-62d462019cdb",
   "metadata": {},
   "source": [
    "That said, one thing we don't like is typing the ```.format``` method and the ```x=x``` and we can get rid of that using a ```f-string```."
   ]
  },
  {
   "cell_type": "markdown",
   "id": "accbfc8d-f8c2-489f-80a9-197cc0010eaa",
   "metadata": {},
   "source": [
    "## F-string"
   ]
  },
  {
   "cell_type": "markdown",
   "id": "6525af6d-2910-4c6b-b28a-090bcf2e428d",
   "metadata": {},
   "source": [
    "```f```, for formatted string, knows how to reach into the environment and find the ```x```. As you can see it is alot more succinct, than the older style and it evaluates the expression."
   ]
  },
  {
   "cell_type": "code",
   "execution_count": 9,
   "id": "c66f22f9-8012-4e62-afb2-6a72acc1b4fe",
   "metadata": {},
   "outputs": [],
   "source": [
    "x = 10"
   ]
  },
  {
   "cell_type": "code",
   "execution_count": 10,
   "id": "b8709a72-43b4-41f6-93a8-19041ddfdfd9",
   "metadata": {},
   "outputs": [
    {
     "name": "stdout",
     "output_type": "stream",
     "text": [
      "The answer is 10 today\n"
     ]
    }
   ],
   "source": [
    "print(f\"The answer is {x} today\")"
   ]
  },
  {
   "cell_type": "markdown",
   "id": "ed68e6d0-3878-4ff4-b369-a8bfaed20ff1",
   "metadata": {},
   "source": [
    "One of the nice things is that it's designed in a way that compiles as we build it; so if you include this in your actual scripts, there's no eval run at run time. So there's no potential for a security flaw inside the f-strings, which is fantastic."
   ]
  },
  {
   "cell_type": "markdown",
   "id": "b374102f-626e-4427-bd23-a87e76ea1cb6",
   "metadata": {},
   "source": [
    "One of the interesting things about f-strings is that you can use all of your classic formatting operators. For instance I would like to make this 8 characters wide with leading zeros and put in a decimal."
   ]
  },
  {
   "cell_type": "code",
   "execution_count": 11,
   "id": "2a17c1e5-63f0-49b7-b8da-24605518b65b",
   "metadata": {},
   "outputs": [
    {
     "name": "stdout",
     "output_type": "stream",
     "text": [
      "The answer is 00000010 today\n"
     ]
    }
   ],
   "source": [
    "print(f\"The answer is {x :08d} today\")"
   ]
  },
  {
   "cell_type": "markdown",
   "id": "16d289be-de58-4b29-91de-1b09a69c2000",
   "metadata": {},
   "source": [
    "Other interesting things we can do is run Python expressions inside. There's some question of how much of this you want to do, whether it's a good practice to put this inside a string however for small expressions, it's actually kind of elegant. I want to show the square of ```x```, what the square of ```x``` was today."
   ]
  },
  {
   "cell_type": "code",
   "execution_count": 12,
   "id": "a684c318-d687-4b5b-8ff6-243290b6d92c",
   "metadata": {},
   "outputs": [
    {
     "name": "stdout",
     "output_type": "stream",
     "text": [
      "The answer is 00000100 today\n"
     ]
    }
   ],
   "source": [
    "print(f\"The answer is {x ** 2 :08d} today\")"
   ]
  },
  {
   "cell_type": "markdown",
   "id": "17ac26bd-6ac4-4e89-a83e-bee335c5ae95",
   "metadata": {},
   "source": [
    "f-strings are useful when you are going to write messages for your exceptions. For example raising a ValueError when a float is expected. ```x```, with bang r ```!r``` gives the representation of the variable ```x``` and ```type(x).__name___``` gives the class type of ```x```. This is something that wouldn't look particularly good with the .formatting style; and look here, we've got the 10 dropped in and we also got the data type dropped in. I think this reads very nicely,, show the representation of ```x``` and show the name of the datatype along the way."
   ]
  },
  {
   "cell_type": "code",
   "execution_count": 13,
   "id": "d87cfe19-ab15-4eec-aa35-10a55a94cd2c",
   "metadata": {},
   "outputs": [],
   "source": [
    "#raise ValueError(f\"Expected {x!r} to a float not a {type(x).__name__}\")"
   ]
  },
  {
   "cell_type": "markdown",
   "id": "7bb3f807-9042-4aee-93c0-c3923442043a",
   "metadata": {},
   "source": [
    "So particularly for exception messages, I like to use f-strings throughout. I've been using these for several months now, and they grow on you very quickly and it'll quickly become one of your favourite features of Python."
   ]
  },
  {
   "cell_type": "markdown",
   "id": "6978b460-a406-4be3-a094-a3acce2ae08a",
   "metadata": {},
   "source": [
    "# Counter object"
   ]
  },
  {
   "cell_type": "markdown",
   "id": "952e107f-6d9b-42e5-a0da-a553f23b7618",
   "metadata": {},
   "source": [
    "The next idea that we'll want to cover is how to use the ```Counter``` object which has been present in Python for quite some time; and so for alot of you this will be a quick review but when you're doing data analysis, ```Counter``` is one of your best friends."
   ]
  },
  {
   "cell_type": "code",
   "execution_count": 14,
   "id": "a4cc87c8-e5cb-4d3a-a105-70401659ec47",
   "metadata": {},
   "outputs": [],
   "source": [
    "from collections import Counter"
   ]
  },
  {
   "cell_type": "markdown",
   "id": "d44b1944-5ca9-4639-90ce-c3bec2fa2334",
   "metadata": {},
   "source": [
    "A traditional dictionary, if it has a missing key, will raise a key error. How many dragonsdo you have?"
   ]
  },
  {
   "cell_type": "code",
   "execution_count": 15,
   "id": "b27456cd-ab30-4a66-95bb-8c525e621828",
   "metadata": {},
   "outputs": [],
   "source": [
    "d = {}"
   ]
  },
  {
   "cell_type": "code",
   "execution_count": 16,
   "id": "3f20a896-a015-471b-ae17-787e1fd26ef8",
   "metadata": {},
   "outputs": [],
   "source": [
    "#d[\"dragons\"]"
   ]
  },
  {
   "cell_type": "markdown",
   "id": "2a058145-591c-42c0-a416-5146ced45491",
   "metadata": {},
   "source": [
    "So traditionally when somebody asks you how many dragons you have, the answer is 0. However, Python's dictionaries would answer with a key error. How can we improve on this situation?  We can use ```Counter```, ```Counter``` is a sub-class of dictionary and has very dictionary-like behaviour; however if I go to lookup the number of dragons, it answers quite sensibly and says I have no dragons. "
   ]
  },
  {
   "cell_type": "code",
   "execution_count": 17,
   "id": "abd0913c-8f38-497f-a5db-ccf0fb057758",
   "metadata": {},
   "outputs": [],
   "source": [
    "d = Counter()"
   ]
  },
  {
   "cell_type": "code",
   "execution_count": 18,
   "id": "bd67966c-f84a-4ac4-b729-f0a489b69da1",
   "metadata": {},
   "outputs": [
    {
     "data": {
      "text/plain": [
       "0"
      ]
     },
     "execution_count": 18,
     "metadata": {},
     "output_type": "execute_result"
    }
   ],
   "source": [
    "d[\"dragons\"]"
   ]
  },
  {
   "cell_type": "markdown",
   "id": "920b026f-3084-49ea-a043-71a67939982f",
   "metadata": {},
   "source": [
    "That side it is pretty easy to increment your number of dragons. "
   ]
  },
  {
   "cell_type": "code",
   "execution_count": 19,
   "id": "77c47598-2809-476c-ad92-d3047c1fd866",
   "metadata": {},
   "outputs": [],
   "source": [
    "d[\"dragons\"] += 1"
   ]
  },
  {
   "cell_type": "code",
   "execution_count": 20,
   "id": "724eb11f-962a-475c-a1e8-ae3b39993879",
   "metadata": {},
   "outputs": [
    {
     "data": {
      "text/plain": [
       "Counter({'dragons': 1})"
      ]
     },
     "execution_count": 20,
     "metadata": {},
     "output_type": "execute_result"
    }
   ],
   "source": [
    "d"
   ]
  },
  {
   "cell_type": "markdown",
   "id": "11365064-4c6b-4593-b30c-8b77678dec13",
   "metadata": {},
   "source": [
    "It works just like a regular dictionary; however if you look up a missing key, rather than raising a key error, it just returns 0. This makes it suitble for counting, which is why, of course, it's called a ```Counter```"
   ]
  },
  {
   "cell_type": "markdown",
   "id": "fadb5417-7d01-47d2-8905-ab68ddeeadfc",
   "metadata": {},
   "source": [
    "One of the other nice things about a counter is that you can pass into it a list of objects and it will go ahead and count them for you. it saves you from building a loop in order to construct your counter. For example, I have a counter of the colors red, green, red, blue, red, blue green. What the ```split``` will do is split the string of colors, it splits on whitespace, making a list. What the counter will do is count over the list and count all the colors, telling us that we have three reds, two greens, and two blues."
   ]
  },
  {
   "cell_type": "code",
   "execution_count": 21,
   "id": "2dd834a4-8e46-4b04-8285-09bb64b2238b",
   "metadata": {},
   "outputs": [
    {
     "data": {
      "text/plain": [
       "Counter({'red': 3, 'green': 2, 'blue': 2})"
      ]
     },
     "execution_count": 21,
     "metadata": {},
     "output_type": "execute_result"
    }
   ],
   "source": [
    "Counter(\"red green red blue red blue green\".split())"
   ]
  },
  {
   "cell_type": "code",
   "execution_count": 22,
   "id": "39e6c3c5-ac5d-48e8-a443-bacd74962286",
   "metadata": {},
   "outputs": [],
   "source": [
    "c = Counter(\"red green red blue red blue green\".split())"
   ]
  },
  {
   "cell_type": "markdown",
   "id": "d27e704c-b9c1-411b-a294-16fc277b301c",
   "metadata": {},
   "source": [
    "One of the nice things that can be done with a Counter is to ask it what are the most common colors? What is the one msot common? Notice that it returned a list of tuples; the first part of the tuple is the color, and the second part is its count."
   ]
  },
  {
   "cell_type": "code",
   "execution_count": 23,
   "id": "bafc09c8-e5f8-4686-9969-e3b5be38d96d",
   "metadata": {},
   "outputs": [
    {
     "data": {
      "text/plain": [
       "[('red', 3)]"
      ]
     },
     "execution_count": 23,
     "metadata": {},
     "output_type": "execute_result"
    }
   ],
   "source": [
    "c.most_common(n=1)"
   ]
  },
  {
   "cell_type": "markdown",
   "id": "b583a207-e920-4f37-92a4-f776b1af6c36",
   "metadata": {},
   "source": [
    "I can ask for the two most common."
   ]
  },
  {
   "cell_type": "code",
   "execution_count": 24,
   "id": "71879396-3f31-431f-9f7b-3b276e3b1de5",
   "metadata": {},
   "outputs": [
    {
     "data": {
      "text/plain": [
       "[('red', 3), ('green', 2)]"
      ]
     },
     "execution_count": 24,
     "metadata": {},
     "output_type": "execute_result"
    }
   ],
   "source": [
    "c.most_common(n=2)"
   ]
  },
  {
   "cell_type": "markdown",
   "id": "dbadec57-9d4d-4c75-a84e-e7562e6a9960",
   "metadata": {},
   "source": [
    "The choice between these two is arbitrary; and in Python, it'll actually give you the first one of the ones encountered if there are two equal values; and this is really handy. Part of the design concept for our counter was it was modelled on smalltalk bags; and the notion of a bag was you can put 50 marblesinto a bag, red marbles and then put another 50 green marbles and another 10 yellow marbles and then the bag would let you take these out one at a time. So it worked like any other container except that it was quite efficient in the way it stored. Instead of putting all of the marbles in seperately, it listed them in as just one time along with their count. In C++ this is called a multiset. So one of the notions of the bag is since there were a lot of marbles in there, you can pull them all out one at a time. The tool for doing that for us is called elements.\n",
    "\n",
    "So if I were to list all of the elements of the counter:"
   ]
  },
  {
   "cell_type": "code",
   "execution_count": 25,
   "id": "6f437600-3f28-4ee6-9fff-a3bbc8c2d8cf",
   "metadata": {},
   "outputs": [
    {
     "data": {
      "text/plain": [
       "['red', 'red', 'red', 'green', 'green', 'blue', 'blue']"
      ]
     },
     "execution_count": 25,
     "metadata": {},
     "output_type": "execute_result"
    }
   ],
   "source": [
    "list(c.elements())"
   ]
  },
  {
   "cell_type": "markdown",
   "id": "ac8ff9d5-eea0-46cb-9062-c18a7a54383d",
   "metadata": {},
   "source": [
    "we get back all of our colors. Notice the reds have been grouped together, the greens and the blues have been put together. So it doesn't remember order; all it does remember is the multiplicity, how many times we saw each color."
   ]
  },
  {
   "cell_type": "markdown",
   "id": "ba413cae-863b-45ac-be3e-11a120106291",
   "metadata": {},
   "source": [
    "Now, what else would list do? Without elements, remember, this is just a dictionary; and by default, when you iterate over a dictionary, you get all of the keys of the dictionary. "
   ]
  },
  {
   "cell_type": "code",
   "execution_count": 26,
   "id": "9d269717-e7a8-45f9-980a-4434e9656d73",
   "metadata": {},
   "outputs": [
    {
     "data": {
      "text/plain": [
       "['red', 'green', 'blue']"
      ]
     },
     "execution_count": 26,
     "metadata": {},
     "output_type": "execute_result"
    }
   ],
   "source": [
    "list(c)"
   ]
  },
  {
   "cell_type": "markdown",
   "id": "5d022b3e-d0f2-4dee-9b2f-eb7585c39da0",
   "metadata": {},
   "source": [
    "And since it's just a dictionary, we can also ask for the values"
   ]
  },
  {
   "cell_type": "code",
   "execution_count": 27,
   "id": "f4dcc0c4-59f9-4e25-885a-93c0c3b40e25",
   "metadata": {},
   "outputs": [
    {
     "data": {
      "text/plain": [
       "[3, 2, 2]"
      ]
     },
     "execution_count": 27,
     "metadata": {},
     "output_type": "execute_result"
    }
   ],
   "source": [
    "list(c.values())"
   ]
  },
  {
   "cell_type": "markdown",
   "id": "88af759b-a8d8-410d-a0db-d511364ed734",
   "metadata": {},
   "source": [
    "or the key value pairs, which are the items:"
   ]
  },
  {
   "cell_type": "code",
   "execution_count": 28,
   "id": "84c908eb-3f19-4528-bba9-b6db2302362d",
   "metadata": {},
   "outputs": [
    {
     "data": {
      "text/plain": [
       "[('red', 3), ('green', 2), ('blue', 2)]"
      ]
     },
     "execution_count": 28,
     "metadata": {},
     "output_type": "execute_result"
    }
   ],
   "source": [
    "list(c.items())"
   ]
  },
  {
   "cell_type": "markdown",
   "id": "0afb1264-6224-4b94-ba26-3af38e9ee9e6",
   "metadata": {},
   "source": [
    "None of these, though, gave us all of the individual elements, and we'll be needing that shortly for doing data analytics."
   ]
  },
  {
   "cell_type": "markdown",
   "id": "48489f42-43cc-4546-9e43-3d582c8e51fa",
   "metadata": {},
   "source": [
    "# The Statistics Module"
   ]
  },
  {
   "cell_type": "markdown",
   "id": "f2f4d1ba-02b6-4b1b-9ba4-89a7443e63b4",
   "metadata": {},
   "source": [
    "The next thing I'd like to show you is the statistics module. In the statistics module are all the classic descriptive statistics: mean, median, mode, standard deviation, and population standard deviation."
   ]
  },
  {
   "cell_type": "code",
   "execution_count": 29,
   "id": "e2cb67cf-aa41-489b-883e-e60187124715",
   "metadata": {},
   "outputs": [],
   "source": [
    "from statistics import mean, median, mode, stdev, pstdev"
   ]
  },
  {
   "cell_type": "markdown",
   "id": "4c85d25b-388a-4bb3-9a05-15b9dd09b1a8",
   "metadata": {},
   "source": [
    "As people start to do more and more data analytics, as they get interested in data science, as they get interested in machine learning, or as they get interested in data in general, descriptive statistics are really handy; and it's nice to have those built in to Python.\n",
    "\n",
    "One of the interesting design aspects of the statistics module was it was designed for accuracy. There's some question whether that was a really good design goal. After all, many times when you want to know the average of a series of numbers, you only want to know out to one or two decimal places rather than having it perfect out to 17 decimal places. That said, a number of statistical formulas are very easily gotten wrong and can amplify very small errors, so a great deal of care was taken in this module to make sure that it gives you as accurate a possible as result.\n",
    "\n",
    "In other words, even though you could implement most of these functions yourself quite easily, the statistics module will tend to give you better results."
   ]
  },
  {
   "cell_type": "markdown",
   "id": "7102f0f7-6e83-411f-9dbc-9b8a35ff81a7",
   "metadata": {},
   "source": [
    "So mean does the obvious thing. I've got a mean of several measurements of 50, 52 and 53; the mean of those is 51 and two-thirds. "
   ]
  },
  {
   "cell_type": "code",
   "execution_count": 30,
   "id": "d05744aa-d090-4d81-9e42-540fe70f7a06",
   "metadata": {},
   "outputs": [
    {
     "data": {
      "text/plain": [
       "51.666666666666664"
      ]
     },
     "execution_count": 30,
     "metadata": {},
     "output_type": "execute_result"
    }
   ],
   "source": [
    "mean([50, 52, 53])"
   ]
  },
  {
   "cell_type": "markdown",
   "id": "d0d3e55b-62d8-4847-9aa9-6b0ec3abde01",
   "metadata": {},
   "source": [
    "Now the median of the two will be the center-most value. "
   ]
  },
  {
   "cell_type": "code",
   "execution_count": 31,
   "id": "659c9345-d53e-4dfe-b04d-13a092f6b6f6",
   "metadata": {},
   "outputs": [
    {
     "data": {
      "text/plain": [
       "52"
      ]
     },
     "execution_count": 31,
     "metadata": {},
     "output_type": "execute_result"
    }
   ],
   "source": [
    "median([50, 52, 53])"
   ]
  },
  {
   "cell_type": "markdown",
   "id": "298be41b-3a35-4b9a-9db0-8e99995eb00d",
   "metadata": {},
   "source": [
    "Where median becomes more interesting is if there are two center values, it will average those two, of course, as they taught you in school."
   ]
  },
  {
   "cell_type": "code",
   "execution_count": 32,
   "id": "7cdce264-6cfc-41cf-8268-5c032e136b71",
   "metadata": {},
   "outputs": [
    {
     "data": {
      "text/plain": [
       "51.5"
      ]
     },
     "execution_count": 32,
     "metadata": {},
     "output_type": "execute_result"
    }
   ],
   "source": [
    "median([50, 51, 52, 53])"
   ]
  },
  {
   "cell_type": "markdown",
   "id": "2c721b88-9d1a-456b-b83f-959b5629cb0a",
   "metadata": {},
   "source": [
    "What is the mode all about? If one value occurs more than the others, it becomes the mode. "
   ]
  },
  {
   "cell_type": "code",
   "execution_count": 33,
   "id": "3aeae020-6978-4a94-acea-e7d8d45e6c3e",
   "metadata": {},
   "outputs": [
    {
     "data": {
      "text/plain": [
       "51"
      ]
     },
     "execution_count": 33,
     "metadata": {},
     "output_type": "execute_result"
    }
   ],
   "source": [
    "mode([51, 50, 52, 53, 51, 51])"
   ]
  },
  {
   "cell_type": "markdown",
   "id": "3de5f8c4-152f-41fb-a921-2f849c138e7a",
   "metadata": {},
   "source": [
    "If you had to pick exactly one representative element and say this one occurs more than all of the other times, mode is a reasonably good choice."
   ]
  },
  {
   "cell_type": "markdown",
   "id": "55e65b0a-be03-409e-a8a0-2311b31b4de5",
   "metadata": {},
   "source": [
    "Median is mainly used for unbalanced distributions"
   ]
  },
  {
   "cell_type": "code",
   "execution_count": 34,
   "id": "36177a02-332a-4169-a4d1-afe8c101156b",
   "metadata": {},
   "outputs": [
    {
     "data": {
      "text/plain": [
       "51.0"
      ]
     },
     "execution_count": 34,
     "metadata": {},
     "output_type": "execute_result"
    }
   ],
   "source": [
    "median([51, 50, 52, 53, 51, 51])"
   ]
  },
  {
   "cell_type": "markdown",
   "id": "90d76d36-8f68-4e8d-808f-bcfc9c881b86",
   "metadata": {},
   "source": [
    "And then there's the classic standard deviation and population standard deviation. Some of you have probably forgotten the difference between those two. The population standard deviation is the one that most people remember where you divide by the number N when you're doing the computation. The sample standard deviation is interesting. It's offset a little bit. We divide by N minus one."
   ]
  },
  {
   "cell_type": "code",
   "execution_count": 35,
   "id": "59b5a01e-69cb-4ff9-a0cf-18f601c9d2a7",
   "metadata": {},
   "outputs": [
    {
     "data": {
      "text/plain": [
       "1.0327955589886444"
      ]
     },
     "execution_count": 35,
     "metadata": {},
     "output_type": "execute_result"
    }
   ],
   "source": [
    "stdev([51, 50, 52, 53, 51, 51])"
   ]
  },
  {
   "cell_type": "code",
   "execution_count": 36,
   "id": "15a5d843-1fa8-409d-8439-d46edd37d322",
   "metadata": {},
   "outputs": [
    {
     "data": {
      "text/plain": [
       "0.9428090415820634"
      ]
     },
     "execution_count": 36,
     "metadata": {},
     "output_type": "execute_result"
    }
   ],
   "source": [
    "pstdev([51, 50, 52, 53, 51, 51])"
   ]
  },
  {
   "cell_type": "markdown",
   "id": "fc2b7fbe-986e-4963-bca8-0ff57be4951a",
   "metadata": {},
   "source": [
    "The idea is if you have a sample of size one, it gives you some estimate of the mean of the population. Your best guess is the one that you chose in your sample. On the other hand, it gives you no idea of the variability. If you reach into a bag and pull out a marble, it's red. Do you have any idea were there many different marbles, only a few different marbles, or whether they're all red? And so the standard deviation, a sample standard deviation, of a sample of size one is infinite. "
   ]
  },
  {
   "cell_type": "code",
   "execution_count": 37,
   "id": "146d8fc2-cfaa-4f21-b454-dddefeca0a84",
   "metadata": {},
   "outputs": [
    {
     "data": {
      "text/plain": [
       "0.07071067811865474"
      ]
     },
     "execution_count": 37,
     "metadata": {},
     "output_type": "execute_result"
    }
   ],
   "source": [
    "stdev([1, 0.9])"
   ]
  },
  {
   "cell_type": "code",
   "execution_count": 38,
   "id": "6d579673-a8ef-468c-96e5-2a84a330d16f",
   "metadata": {},
   "outputs": [
    {
     "data": {
      "text/plain": [
       "0.04999999999999999"
      ]
     },
     "execution_count": 38,
     "metadata": {},
     "output_type": "execute_result"
    }
   ],
   "source": [
    "pstdev([1, 0.9])"
   ]
  },
  {
   "cell_type": "markdown",
   "id": "b8b21621-e220-46e5-8bf9-6a29bce356f1",
   "metadata": {},
   "source": [
    "On the other hand, if you knew that there was exactly only one marble and you chose it, you would know everything about the population; so we would divide by the population size of one, and the population standard deviation of that one marble would be zero. So are these two very close to each other? Sometimes they give answers very close to each other when the N is fairly large. But, remember, when N is one; one of them will give you infinity, and the other one will give you zero, two numbers that are quite far apart."
   ]
  },
  {
   "cell_type": "markdown",
   "id": "2e9a1185-b953-4c4f-9459-648f7c10084a",
   "metadata": {},
   "source": [
    "# list Concatenation"
   ]
  },
  {
   "cell_type": "markdown",
   "id": "ffd7c7c8-8907-4140-80ec-b3033a5bd242",
   "metadata": {},
   "source": [
    "The next one up is list concatenation. This is just a little bit of review from intro Python. I have two lists, and then two concatenate end to end. This works quite different than numpy. numpy while adding these would add them element-wise, the 10 to the 40, the 20 to the 50, and the 30 to the 60."
   ]
  },
  {
   "cell_type": "code",
   "execution_count": 39,
   "id": "7581124c-8faa-4091-ad65-ffdcd0a9418b",
   "metadata": {},
   "outputs": [],
   "source": [
    "s = [10, 20, 30]"
   ]
  },
  {
   "cell_type": "code",
   "execution_count": 40,
   "id": "ad07528b-3f0b-4acd-b76e-7fc3d617fdc6",
   "metadata": {},
   "outputs": [],
   "source": [
    "t = [40, 50, 60]"
   ]
  },
  {
   "cell_type": "code",
   "execution_count": 41,
   "id": "7745f77f-8b38-4522-9890-e69b22c62915",
   "metadata": {},
   "outputs": [
    {
     "data": {
      "text/plain": [
       "[10, 20, 30, 40, 50, 60]"
      ]
     },
     "execution_count": 41,
     "metadata": {},
     "output_type": "execute_result"
    }
   ],
   "source": [
    "u = s + t\n",
    "u"
   ]
  },
  {
   "cell_type": "markdown",
   "id": "44d852f0-9a12-431c-ad6a-c027c3ceb3bf",
   "metadata": {},
   "source": [
    "So Python list concatenation works differently. \n",
    "\n",
    "List slicing says that we can take the first few elements. This says give me the first two elements of list ```u```, which is the 10 and 20."
   ]
  },
  {
   "cell_type": "code",
   "execution_count": 42,
   "id": "00b21b9a-3875-4605-8f06-caa4eccbc095",
   "metadata": {},
   "outputs": [
    {
     "data": {
      "text/plain": [
       "[10, 20]"
      ]
     },
     "execution_count": 42,
     "metadata": {},
     "output_type": "execute_result"
    }
   ],
   "source": [
    "u[:2]"
   ]
  },
  {
   "cell_type": "markdown",
   "id": "2bce57ba-56a9-4eda-bd4e-2c57d34ef3d3",
   "metadata": {},
   "source": [
    "And then if I want the last two, we can use a negative index. This says count two from the right, so this is one back and two back. Minus two is the 50, and then the colon says go all the way to the end"
   ]
  },
  {
   "cell_type": "code",
   "execution_count": 43,
   "id": "0339c513-a7c4-4ebd-84f7-643a59f05ce5",
   "metadata": {},
   "outputs": [
    {
     "data": {
      "text/plain": [
       "[50, 60]"
      ]
     },
     "execution_count": 43,
     "metadata": {},
     "output_type": "execute_result"
    }
   ],
   "source": [
    "u[-2:]"
   ]
  },
  {
   "cell_type": "markdown",
   "id": "86e63c56-2839-4159-a6a5-3a865aaccb14",
   "metadata": {},
   "source": [
    "If I wanted to make a brand new list, I could concatenate these together and say I want the first two plus the last two."
   ]
  },
  {
   "cell_type": "code",
   "execution_count": 44,
   "id": "5dff5360-5d1c-4a94-893a-8e06f078bcc5",
   "metadata": {},
   "outputs": [
    {
     "data": {
      "text/plain": [
       "[10, 20, 50, 60]"
      ]
     },
     "execution_count": 44,
     "metadata": {},
     "output_type": "execute_result"
    }
   ],
   "source": [
    "u[:2] + u[-2:]"
   ]
  },
  {
   "cell_type": "markdown",
   "id": "eabfc715-f4d6-456c-9836-d186169185a5",
   "metadata": {},
   "source": [
    "# sequence methods"
   ]
  },
  {
   "cell_type": "markdown",
   "id": "5cec2cb7-5989-4b9e-afa4-1cba2d45d81a",
   "metadata": {},
   "source": [
    "Other interesting characteristics of list is if you do a dir of list, you'll see a couple of methods that people tend to forget about. All sequences have count, and all sequences have an index"
   ]
  },
  {
   "cell_type": "code",
   "execution_count": 45,
   "id": "f86d2da7-2bbf-48c8-8e82-cb03c6018970",
   "metadata": {},
   "outputs": [
    {
     "data": {
      "text/plain": [
       "['__add__',\n",
       " '__class__',\n",
       " '__class_getitem__',\n",
       " '__contains__',\n",
       " '__delattr__',\n",
       " '__delitem__',\n",
       " '__dir__',\n",
       " '__doc__',\n",
       " '__eq__',\n",
       " '__format__',\n",
       " '__ge__',\n",
       " '__getattribute__',\n",
       " '__getitem__',\n",
       " '__gt__',\n",
       " '__hash__',\n",
       " '__iadd__',\n",
       " '__imul__',\n",
       " '__init__',\n",
       " '__init_subclass__',\n",
       " '__iter__',\n",
       " '__le__',\n",
       " '__len__',\n",
       " '__lt__',\n",
       " '__mul__',\n",
       " '__ne__',\n",
       " '__new__',\n",
       " '__reduce__',\n",
       " '__reduce_ex__',\n",
       " '__repr__',\n",
       " '__reversed__',\n",
       " '__rmul__',\n",
       " '__setattr__',\n",
       " '__setitem__',\n",
       " '__sizeof__',\n",
       " '__str__',\n",
       " '__subclasshook__',\n",
       " 'append',\n",
       " 'clear',\n",
       " 'copy',\n",
       " 'count',\n",
       " 'extend',\n",
       " 'index',\n",
       " 'insert',\n",
       " 'pop',\n",
       " 'remove',\n",
       " 'reverse',\n",
       " 'sort']"
      ]
     },
     "execution_count": 45,
     "metadata": {},
     "output_type": "execute_result"
    }
   ],
   "source": [
    "dir(list)"
   ]
  },
  {
   "cell_type": "markdown",
   "id": "4e1849c2-0f18-476a-abc9-60ccb05bf827",
   "metadata": {},
   "source": [
    "All sequences have count, and all sequences have an index. So let's go ahead and try this with a string sequence, ```\"abracadabra\"```; and I can ask the question: At what location is the letter ```\"c\"```? And ```\"c\"``` is up here at position 4. "
   ]
  },
  {
   "cell_type": "code",
   "execution_count": 46,
   "id": "431c6022-633f-46e8-98c2-a1c18e49dd0b",
   "metadata": {},
   "outputs": [],
   "source": [
    "s = \"abracadabra\""
   ]
  },
  {
   "cell_type": "code",
   "execution_count": 47,
   "id": "2d43536f-176a-4152-b221-580f85e5a999",
   "metadata": {},
   "outputs": [
    {
     "data": {
      "text/plain": [
       "4"
      ]
     },
     "execution_count": 47,
     "metadata": {},
     "output_type": "execute_result"
    }
   ],
   "source": [
    "i = s.index(\"c\")\n",
    "i"
   ]
  },
  {
   "cell_type": "markdown",
   "id": "46de09c1-c960-4b1d-9948-2ceaa5431feb",
   "metadata": {},
   "source": [
    "So asset i is four, but I could also ask the question: How many times does the letter ```c``` occur? It's in there only once, as opposed to the five ```\"A\"```s."
   ]
  },
  {
   "cell_type": "code",
   "execution_count": 48,
   "id": "f7a4e7f5-8dd8-4c11-aaac-576df112aafc",
   "metadata": {},
   "outputs": [
    {
     "data": {
      "text/plain": [
       "1"
      ]
     },
     "execution_count": 48,
     "metadata": {},
     "output_type": "execute_result"
    }
   ],
   "source": [
    "s.count(\"c\")"
   ]
  },
  {
   "cell_type": "code",
   "execution_count": 49,
   "id": "6233800b-2672-4fc3-b91c-eb122405bd39",
   "metadata": {},
   "outputs": [
    {
     "data": {
      "text/plain": [
       "5"
      ]
     },
     "execution_count": 49,
     "metadata": {},
     "output_type": "execute_result"
    }
   ],
   "source": [
    "s.count(\"a\")"
   ]
  },
  {
   "cell_type": "markdown",
   "id": "c05366d0-4213-4caa-9d97-115b1a956867",
   "metadata": {},
   "source": [
    "A lot of people forget that these methods exist. However, when we're doing data analytics; it's going to become really common, very handy to determine how many times an element occurs. "
   ]
  },
  {
   "cell_type": "markdown",
   "id": "43758a1a-29c1-4763-87ba-7a7a41f98c1c",
   "metadata": {},
   "source": [
    "# sorting\n",
    "\n",
    "I'd like to also remind you of sorted. There's two different ways to sort. I could take this list and sort it in place using the method ```sort```."
   ]
  },
  {
   "cell_type": "code",
   "execution_count": 50,
   "id": "456e5c3f-9b68-48af-a9f1-d34083a8b66d",
   "metadata": {},
   "outputs": [],
   "source": [
    "s = [10, 5, 70, 2]"
   ]
  },
  {
   "cell_type": "code",
   "execution_count": 51,
   "id": "88a5669a-a84b-43df-a391-ba3368bd02b7",
   "metadata": {},
   "outputs": [],
   "source": [
    "s.sort()"
   ]
  },
  {
   "cell_type": "code",
   "execution_count": 52,
   "id": "7733fdc6-4802-42f6-bc22-6c51226a8681",
   "metadata": {},
   "outputs": [
    {
     "data": {
      "text/plain": [
       "[2, 5, 10, 70]"
      ]
     },
     "execution_count": 52,
     "metadata": {},
     "output_type": "execute_result"
    }
   ],
   "source": [
    "s"
   ]
  },
  {
   "cell_type": "markdown",
   "id": "3bcb92f4-8a5a-4d30-97be-8d28a0fa7a24",
   "metadata": {},
   "source": [
    "And if you already have a list, and if you want that list sorted, this is a really good way to do it."
   ]
  },
  {
   "cell_type": "markdown",
   "id": "ae5eb5bc-66a6-4aaf-ab7b-1052843d0518",
   "metadata": {},
   "source": [
    "However, if you'd like to leave that list alone and not sort it in place; you can use the inbuilt function ```sorted```. Sorted constructs a new list so the old list is the same as before, but the new list is in sorted order. "
   ]
  },
  {
   "cell_type": "code",
   "execution_count": 53,
   "id": "4985634f-e8f1-4e53-9877-79e69235cba8",
   "metadata": {},
   "outputs": [],
   "source": [
    "s = [10, 5, 70, 2]"
   ]
  },
  {
   "cell_type": "code",
   "execution_count": 54,
   "id": "677e5a54-ccad-44af-8443-020d99062447",
   "metadata": {},
   "outputs": [],
   "source": [
    "t = sorted(s)"
   ]
  },
  {
   "cell_type": "code",
   "execution_count": 55,
   "id": "4a460d38-0f4b-4eb7-99be-c94cb6194f1d",
   "metadata": {},
   "outputs": [
    {
     "data": {
      "text/plain": [
       "[2, 5, 10, 70]"
      ]
     },
     "execution_count": 55,
     "metadata": {},
     "output_type": "execute_result"
    }
   ],
   "source": [
    "t"
   ]
  },
  {
   "cell_type": "markdown",
   "id": "f78b51eb-bbe6-4121-a90f-9d989b84ab24",
   "metadata": {},
   "source": [
    "One of the nice things about sorted is that the signature is it runs with any iterable, which means I can now use it on immutable objects, such as sorting a string ```\"cat\"```, sort the letters in alphabetical order. "
   ]
  },
  {
   "cell_type": "code",
   "execution_count": 56,
   "id": "3f9bca68-115b-4147-a182-236797774bdf",
   "metadata": {},
   "outputs": [
    {
     "data": {
      "text/plain": [
       "['a', 'c', 't']"
      ]
     },
     "execution_count": 56,
     "metadata": {},
     "output_type": "execute_result"
    }
   ],
   "source": [
    "sorted(\"cat\")"
   ]
  },
  {
   "cell_type": "markdown",
   "id": "52a3eac8-abf2-495d-9da6-f69691f102ff",
   "metadata": {},
   "source": [
    "So sorted is often much more convenient to use than sort itself, in part, because you don't have to convert to a list first; it does that for you."
   ]
  },
  {
   "cell_type": "markdown",
   "id": "e99953f5-3a86-4cdd-8ee2-87df62a74761",
   "metadata": {},
   "source": [
    "# lambda"
   ]
  },
  {
   "cell_type": "markdown",
   "id": "4273618c-e936-405c-af14-d41761f67554",
   "metadata": {},
   "source": [
    "Another one that people often forget is ```lambda```. Lambda used to be very popular in the Python world. People used to use ```map``` and ```lambda``` quite a bit, but then list comprehensions came along; and list comprehensions are so much more beautiful, most of the time, that people started to forget about lambda or they decided that lambda was unattractive. Python has grown a lot of tools to try to make up for people trying to not use lambda. So we used to use lambda for everything; but now we have partial objects, we have item getters, attribute getters, and a whole zoo of other objects whose sole purpose is to make sure that you don't have to use a lambda. I say just get over it and learn to use lambda. Why is it so many people react badly to lambda? I think because of the name. What should it have been called, **make function**, no one would have any questions about what it does. \n",
    "\n",
    "```Lambda x``` makes a function."
   ]
  },
  {
   "cell_type": "code",
   "execution_count": 57,
   "id": "7036ac61-9cfb-4d60-a635-aa8f07a36d60",
   "metadata": {},
   "outputs": [
    {
     "data": {
      "text/plain": [
       "<function __main__.<lambda>(x)>"
      ]
     },
     "execution_count": 57,
     "metadata": {},
     "output_type": "execute_result"
    }
   ],
   "source": [
    "lambda x: x ** 2"
   ]
  },
  {
   "cell_type": "markdown",
   "id": "84f40494-d9ea-4dba-bfe6-1316cb6e4731",
   "metadata": {},
   "source": [
    "What can you do with functions? You can call them. A common use of lambdas is to make anonymous or throwaway functions; so this is a silly use. Make an expression that has a lambda in it and then consume it right away."
   ]
  },
  {
   "cell_type": "code",
   "execution_count": 58,
   "id": "9faee860-4ed2-4ea7-9a58-7322e7fbd223",
   "metadata": {},
   "outputs": [
    {
     "data": {
      "text/plain": [
       "25"
      ]
     },
     "execution_count": 58,
     "metadata": {},
     "output_type": "execute_result"
    }
   ],
   "source": [
    "(lambda x: x ** 2)(5)"
   ]
  },
  {
   "cell_type": "markdown",
   "id": "be716f3b-0447-4e2f-8c6b-375c4d5f8c17",
   "metadata": {},
   "source": [
    "This says take 100, put it on the stack, build a function, put it on the stack, call that function with five, substituting the five for the ```x``` and computing the 25, adding it to the 100, getting 125, and then adding 50 to get to 175. lambda is actually really straightforward if you remember that it means **make function**."
   ]
  },
  {
   "cell_type": "code",
   "execution_count": 59,
   "id": "92ab724c-c0bf-489a-8be2-5f603840a55c",
   "metadata": {},
   "outputs": [
    {
     "data": {
      "text/plain": [
       "175"
      ]
     },
     "execution_count": 59,
     "metadata": {},
     "output_type": "execute_result"
    }
   ],
   "source": [
    "100 + (lambda x: x ** 2)(5) + 50"
   ]
  },
  {
   "cell_type": "markdown",
   "id": "047a1f08-33db-4117-8a48-1375aa49cd91",
   "metadata": {},
   "source": [
    "That said, some people remember those; but they tend to forget that it can also be used with functions of multiple arguments. So this lets me break a brand new function where I can call where the three gets substituted for the ```x```; eight gets substituted for the ```y```."
   ]
  },
  {
   "cell_type": "code",
   "execution_count": 60,
   "id": "fd49d589-1fa8-458c-9301-0bb6f0829030",
   "metadata": {},
   "outputs": [],
   "source": [
    "f = lambda x, y: 3 * x + y"
   ]
  },
  {
   "cell_type": "code",
   "execution_count": 61,
   "id": "280d88a1-ed6b-4c03-b688-2b2a22d1fbf1",
   "metadata": {},
   "outputs": [
    {
     "data": {
      "text/plain": [
       "17"
      ]
     },
     "execution_count": 61,
     "metadata": {},
     "output_type": "execute_result"
    }
   ],
   "source": [
    "f(x=3, y=8)"
   ]
  },
  {
   "cell_type": "code",
   "execution_count": 62,
   "id": "001ec224-fef4-435a-b9f9-27544dcd1884",
   "metadata": {},
   "outputs": [
    {
     "data": {
      "text/plain": [
       "17"
      ]
     },
     "execution_count": 62,
     "metadata": {},
     "output_type": "execute_result"
    }
   ],
   "source": [
    "f(3, 8)"
   ]
  },
  {
   "cell_type": "markdown",
   "id": "dc0bdc0e-0628-48cd-8b78-a20a9a5046be",
   "metadata": {},
   "source": [
    "Even for people who remember those uses of lambda, there's another case that you don't see that often, which is to defer a computation or to make a promise; and the idea is you run a computation at some point in the future. For instance, I know an ```x``` is 10 and a ```y``` is 20; and I want to square them, but I don't want to square them right now. So it's reasonably common to make a lambda that has no arguments at all that then runs the computation that you're interested in."
   ]
  },
  {
   "cell_type": "code",
   "execution_count": 63,
   "id": "0f8999dd-0fa5-4644-aaee-5c1f06a309a1",
   "metadata": {},
   "outputs": [],
   "source": [
    "x = 10\n",
    "y = 20"
   ]
  },
  {
   "cell_type": "code",
   "execution_count": 64,
   "id": "8bdea71a-4d10-422b-9349-68b8c134f77e",
   "metadata": {},
   "outputs": [],
   "source": [
    "f = lambda : x ** y"
   ]
  },
  {
   "cell_type": "markdown",
   "id": "77699579-afbe-4ec4-8d44-38842ae3060c",
   "metadata": {},
   "source": [
    "The idea is we're making a promise that in the future while we've frozen this computation, we can thaw it out. Only when we call it do we run it. "
   ]
  },
  {
   "cell_type": "code",
   "execution_count": 65,
   "id": "d5dc2abc-95f3-4787-aaac-8c2aac7b5335",
   "metadata": {},
   "outputs": [
    {
     "data": {
      "text/plain": [
       "100000000000000000000"
      ]
     },
     "execution_count": 65,
     "metadata": {},
     "output_type": "execute_result"
    }
   ],
   "source": [
    "f()"
   ]
  },
  {
   "cell_type": "markdown",
   "id": "1863c217-aa58-4c2e-b228-7813586fc21c",
   "metadata": {},
   "source": [
    "And this is a little bit of a silly example for it; however, it's very common in callback style programming where we know we'd only want to run the feature when somebody triggers an event in an async I/O type program or when they trigger an event, you pressing a button in GUI widget. So you'll see these all the time in GUI. Some people call it freeze and thaw, some people call it promises, some people call them thunks; but the idea is we're deferring a computation to the future by making a function of no arguments, and once we call it, that's when the function runs."
   ]
  },
  {
   "cell_type": "markdown",
   "id": "f4530503-2160-44b7-a977-366a87376150",
   "metadata": {},
   "source": [
    "# Chained Comparisons"
   ]
  },
  {
   "cell_type": "markdown",
   "id": "45ff5c86-1a17-4210-b4a9-8e84c1348a02",
   "metadata": {},
   "source": [
    "Now here's one that everyone knows, which is that we can do comparisons like this: Is ```x``` greater than 6; is ```x``` less than 10? "
   ]
  },
  {
   "cell_type": "code",
   "execution_count": 66,
   "id": "afbad64d-937e-4153-9bcf-6243bfe8be6b",
   "metadata": {},
   "outputs": [],
   "source": [
    "x = 15"
   ]
  },
  {
   "cell_type": "code",
   "execution_count": 67,
   "id": "075f8fb1-c1a6-4c8d-b344-20332b7f539b",
   "metadata": {},
   "outputs": [
    {
     "data": {
      "text/plain": [
       "True"
      ]
     },
     "execution_count": 67,
     "metadata": {},
     "output_type": "execute_result"
    }
   ],
   "source": [
    "x > 6"
   ]
  },
  {
   "cell_type": "code",
   "execution_count": 68,
   "id": "a161f270-6928-4203-826a-77901ef0d0dd",
   "metadata": {},
   "outputs": [
    {
     "data": {
      "text/plain": [
       "False"
      ]
     },
     "execution_count": 68,
     "metadata": {},
     "output_type": "execute_result"
    }
   ],
   "source": [
    "x < 10"
   ]
  },
  {
   "cell_type": "markdown",
   "id": "884f5fd9-4f18-47f4-82a5-60fb8cfb782c",
   "metadata": {},
   "source": [
    "We can also chain those together by saying is ```x``` greater than 6 and is ```x``` less than 20? "
   ]
  },
  {
   "cell_type": "code",
   "execution_count": 69,
   "id": "7b006590-1e97-4c8e-9b07-9fd732c53f79",
   "metadata": {},
   "outputs": [
    {
     "data": {
      "text/plain": [
       "True"
      ]
     },
     "execution_count": 69,
     "metadata": {},
     "output_type": "execute_result"
    }
   ],
   "source": [
    "6 < x < 20"
   ]
  },
  {
   "cell_type": "markdown",
   "id": "b639ac88-512f-4e28-aa2b-28f3711c6b7b",
   "metadata": {},
   "source": [
    "So just using binary operations, and that's very common in a lot of languages; but Python offers something new and special, which is chained comparisons. And it lets you write this the same way that you would've learned to write it in mathematics or back in school, and so these last two expressions are equivalent to each other except that the second one is a little bit more efficient because it doesn't have to load X onto the stack two times. These are called chained comparisons."
   ]
  },
  {
   "cell_type": "markdown",
   "id": "ee48bd9e-0b4e-4ef7-b354-252d23962071",
   "metadata": {},
   "source": [
    "# The random module"
   ]
  },
  {
   "cell_type": "markdown",
   "id": "8fc15e9f-5688-410b-a7b0-1f951d26e93e",
   "metadata": {},
   "source": [
    "Next up is a little tour of the random module. When we do resampling statistics, we make heavy use of the random module. So I'll give you a quick tour. A lot of people have seen one or two pieces, but they haven't seen how they all fit together. "
   ]
  },
  {
   "cell_type": "code",
   "execution_count": 70,
   "id": "2f8a02b1-37ef-4bfe-ad2b-8cd2cdc15669",
   "metadata": {},
   "outputs": [],
   "source": [
    "from random import random, seed"
   ]
  },
  {
   "cell_type": "markdown",
   "id": "cc4bde62-8a30-44f6-8ad8-55129449911a",
   "metadata": {},
   "source": [
    "In order to get the same random numbers every time, we would want to see the random number generator. In other words, if I were to restart my shell right now and type random, I would get a different random number than before."
   ]
  },
  {
   "cell_type": "code",
   "execution_count": 71,
   "id": "718cebfd-1b75-48e7-a766-ece7d515cf9d",
   "metadata": {},
   "outputs": [
    {
     "data": {
      "text/plain": [
       "0.03931061598070873"
      ]
     },
     "execution_count": 71,
     "metadata": {},
     "output_type": "execute_result"
    }
   ],
   "source": [
    "random()"
   ]
  },
  {
   "cell_type": "code",
   "execution_count": 72,
   "id": "de40aa20-91d5-4c67-a460-e1caee976171",
   "metadata": {},
   "outputs": [
    {
     "data": {
      "text/plain": [
       "0.7475454215857801"
      ]
     },
     "execution_count": 72,
     "metadata": {},
     "output_type": "execute_result"
    }
   ],
   "source": [
    "random()"
   ]
  },
  {
   "cell_type": "markdown",
   "id": "a76713c0-fa3a-462d-ba47-f616a0830f18",
   "metadata": {},
   "source": [
    "However, if I were to see the random number generator, I could reliably produce the exact same sequence over and over again."
   ]
  },
  {
   "cell_type": "code",
   "execution_count": 73,
   "id": "fc79851d-1bcc-4af2-930d-a798ed7f9e7b",
   "metadata": {},
   "outputs": [],
   "source": [
    "seed(8675309)"
   ]
  },
  {
   "cell_type": "code",
   "execution_count": 74,
   "id": "c1330878-ca87-497d-80b2-d9d24eb6639b",
   "metadata": {},
   "outputs": [
    {
     "data": {
      "text/plain": [
       "0.40224696110279223"
      ]
     },
     "execution_count": 74,
     "metadata": {},
     "output_type": "execute_result"
    }
   ],
   "source": [
    "random()"
   ]
  },
  {
   "cell_type": "code",
   "execution_count": 75,
   "id": "48832c33-1951-406a-a846-6420227c73dc",
   "metadata": {},
   "outputs": [
    {
     "data": {
      "text/plain": [
       "0.5102471779215914"
      ]
     },
     "execution_count": 75,
     "metadata": {},
     "output_type": "execute_result"
    }
   ],
   "source": [
    "random()"
   ]
  },
  {
   "cell_type": "code",
   "execution_count": 76,
   "id": "9197f6fb-ad1b-4239-a0f2-935f2caab067",
   "metadata": {},
   "outputs": [
    {
     "data": {
      "text/plain": [
       "0.6637431122665531"
      ]
     },
     "execution_count": 76,
     "metadata": {},
     "output_type": "execute_result"
    }
   ],
   "source": [
    "random()"
   ]
  },
  {
   "cell_type": "markdown",
   "id": "0e361e80-0646-4177-a7fd-980cebfd6a28",
   "metadata": {},
   "source": [
    "This, of course, would be terrible for gambling applications but is fantastic for simulations so that later you can reproduce the results of the simulation. It's also commonly used in fields where you are picking samples and confirming that you've checked some of these samples that you published your seed so that people know that you didn't cherry pick your results. So this is a step toward reproducible research always using a random seed so that we can reproduce your sequence and know that you didn't cherry pick the results. So if I use the same seed again, I should be able to produce exactly the same set of random numbers once again; and you can see that 0.4022 got chosen twice and that the 0.5102 got chosen twice, and the 0.6637 got chosen twice as well."
   ]
  },
  {
   "cell_type": "code",
   "execution_count": 77,
   "id": "431d7dbb-2592-4d32-972c-58d527a19fdc",
   "metadata": {},
   "outputs": [],
   "source": [
    "seed(8675309)"
   ]
  },
  {
   "cell_type": "code",
   "execution_count": 78,
   "id": "13c7aed2-e0ae-44eb-a34c-3efe620f75ae",
   "metadata": {},
   "outputs": [
    {
     "data": {
      "text/plain": [
       "0.40224696110279223"
      ]
     },
     "execution_count": 78,
     "metadata": {},
     "output_type": "execute_result"
    }
   ],
   "source": [
    "random()"
   ]
  },
  {
   "cell_type": "code",
   "execution_count": 79,
   "id": "8d1a8adc-ff85-4a02-acf0-dbccd5fa6b9b",
   "metadata": {},
   "outputs": [
    {
     "data": {
      "text/plain": [
       "0.5102471779215914"
      ]
     },
     "execution_count": 79,
     "metadata": {},
     "output_type": "execute_result"
    }
   ],
   "source": [
    "random()"
   ]
  },
  {
   "cell_type": "code",
   "execution_count": 80,
   "id": "ac4e8473-4bcd-4ac6-9a4b-fa79c4efd4af",
   "metadata": {},
   "outputs": [
    {
     "data": {
      "text/plain": [
       "0.6637431122665531"
      ]
     },
     "execution_count": 80,
     "metadata": {},
     "output_type": "execute_result"
    }
   ],
   "source": [
    "random()"
   ]
  },
  {
   "cell_type": "markdown",
   "id": "6851cf6b-a071-489c-a01a-6ab4476c9c6c",
   "metadata": {},
   "source": [
    "Next up is a set of continuous distributions. So one of them is uniform. Uniform does exactly what it says. I want a number chosen uniformly in the range from 1000 to 1100; and it gives me a floating point number, as is befitting of a continuous distribution. \n"
   ]
  },
  {
   "cell_type": "code",
   "execution_count": 81,
   "id": "ae9cbfab-9939-406c-87f8-b708ea1c6b03",
   "metadata": {},
   "outputs": [],
   "source": [
    "from random import uniform"
   ]
  },
  {
   "cell_type": "code",
   "execution_count": 82,
   "id": "36d82a97-94a0-476c-a186-0cf945a8e7d9",
   "metadata": {},
   "outputs": [
    {
     "data": {
      "text/plain": [
       "1086.0716692339552"
      ]
     },
     "execution_count": 82,
     "metadata": {},
     "output_type": "execute_result"
    }
   ],
   "source": [
    "uniform(1000, 1100)"
   ]
  },
  {
   "cell_type": "markdown",
   "id": "770faf50-53db-40b5-b74c-0645884d207b",
   "metadata": {},
   "source": [
    "However, we can also get distributions that are shaped not in a flat line. One of them, that I believe is well named, is a triangular distribution. Say I want a number between 1000 and 1100; however, I want the halfway point to be chosen much more frequently than the edges. And so these will all be centered about the middle, and there will be very few entries toward the 1000 or 1100."
   ]
  },
  {
   "cell_type": "code",
   "execution_count": 83,
   "id": "93e55288-d01f-4959-b398-35b5e93d5a40",
   "metadata": {},
   "outputs": [],
   "source": [
    "from random import triangular"
   ]
  },
  {
   "cell_type": "code",
   "execution_count": 84,
   "id": "8b6e8319-b21c-4f3c-9770-c43c92b6e84b",
   "metadata": {},
   "outputs": [
    {
     "data": {
      "text/plain": [
       "1037.4795077189701"
      ]
     },
     "execution_count": 84,
     "metadata": {},
     "output_type": "execute_result"
    }
   ],
   "source": [
    "triangular(low=1000, high=1100)"
   ]
  },
  {
   "cell_type": "markdown",
   "id": "929281a2-d273-442d-be6c-91b66fc0257d",
   "metadata": {},
   "source": [
    "Now if you would like the tails to split off and for it to be a little bit less angular in its distribution, a gaussian or a normal distribution is a really good choice."
   ]
  },
  {
   "cell_type": "markdown",
   "id": "c2c9a703-9e7e-444e-994f-9f147ed7f00c",
   "metadata": {},
   "source": [
    "So let's pick our random IQ. The average IQ according to its original definition is 100, and the standard deviation was 15. So this generates random IQs for people. So just a simple normal distribution."
   ]
  },
  {
   "cell_type": "code",
   "execution_count": 85,
   "id": "8c32b88e-11d6-4baa-9f13-0ff69b439477",
   "metadata": {},
   "outputs": [],
   "source": [
    "from random import gauss"
   ]
  },
  {
   "cell_type": "code",
   "execution_count": 86,
   "id": "ec02af97-7aec-489f-8489-5e722b19dc3c",
   "metadata": {},
   "outputs": [
    {
     "data": {
      "text/plain": [
       "86.34454152701"
      ]
     },
     "execution_count": 86,
     "metadata": {},
     "output_type": "execute_result"
    }
   ],
   "source": [
    "gauss(mu=100, sigma=15)"
   ]
  },
  {
   "cell_type": "code",
   "execution_count": 87,
   "id": "2be67680-3245-4cab-8487-48edc6e699c6",
   "metadata": {},
   "outputs": [
    {
     "data": {
      "text/plain": [
       "83.1958332105035"
      ]
     },
     "execution_count": 87,
     "metadata": {},
     "output_type": "execute_result"
    }
   ],
   "source": [
    "gauss(mu=100, sigma=15)"
   ]
  },
  {
   "cell_type": "markdown",
   "id": "6ce957d5-5ca0-45f3-9d9b-5b27c92c4f9b",
   "metadata": {},
   "source": [
    "Expovariate is used to simulate arrival times and interestingly, its argument is called lambda. Python uses the syntax lambd, to prevent confusion with a lambda expression. The output is reciporical from lambd. If lambd is 20, the mean of all the results will be centred around 1/20 = 0.05."
   ]
  },
  {
   "cell_type": "code",
   "execution_count": 88,
   "id": "392056b2-26f3-4f9b-b2c7-9c9c9958f7ad",
   "metadata": {},
   "outputs": [],
   "source": [
    "from random import expovariate"
   ]
  },
  {
   "cell_type": "code",
   "execution_count": 89,
   "id": "aeb48376-70bb-401b-bdc7-b70745f5ea0f",
   "metadata": {},
   "outputs": [
    {
     "data": {
      "text/plain": [
       "0.012883883534313367"
      ]
     },
     "execution_count": 89,
     "metadata": {},
     "output_type": "execute_result"
    }
   ],
   "source": [
    "expovariate(lambd=20)"
   ]
  },
  {
   "cell_type": "code",
   "execution_count": 90,
   "id": "3def003b-6093-47a0-8603-119a01680a3e",
   "metadata": {},
   "outputs": [
    {
     "data": {
      "text/plain": [
       "0.062187163410823934"
      ]
     },
     "execution_count": 90,
     "metadata": {},
     "output_type": "execute_result"
    }
   ],
   "source": [
    "expovariate(lambd=20)"
   ]
  },
  {
   "cell_type": "code",
   "execution_count": 91,
   "id": "e76db878-b0dc-48e4-9be6-17c88e82ec22",
   "metadata": {},
   "outputs": [
    {
     "data": {
      "text/plain": [
       "0.0047789956500410785"
      ]
     },
     "execution_count": 91,
     "metadata": {},
     "output_type": "execute_result"
    }
   ],
   "source": [
    "expovariate(lambd=20)"
   ]
  },
  {
   "cell_type": "markdown",
   "id": "d672b926-6bce-4906-9d16-882163e284f9",
   "metadata": {},
   "source": [
    "It is easy to see what the averages of these are using a list comprehension, so let me go ahead and use our statistics from statistics. Import, mean, and standard deviation, and now demonstrate our distributions. "
   ]
  },
  {
   "cell_type": "code",
   "execution_count": 92,
   "id": "8d133893-2103-4ef7-8e3b-7bfca9cf30d5",
   "metadata": {},
   "outputs": [],
   "source": [
    "from statistics import mean, stdev\n",
    "seed(8675309)"
   ]
  },
  {
   "cell_type": "markdown",
   "id": "6b7205a2-5e6f-45a1-9514-8450f3670ed7",
   "metadata": {},
   "source": [
    "So let's get to some data. I would like a triangular number in the range ```triangular(low=1000, high=1100)```, and I want a thousand of them."
   ]
  },
  {
   "cell_type": "code",
   "execution_count": 93,
   "id": "f07cbf8d-68dd-4bb2-887a-a7c5545ed1f2",
   "metadata": {},
   "outputs": [],
   "source": [
    "data = [triangular(low=1000, high=1100) for i in range(1000)]"
   ]
  },
  {
   "cell_type": "markdown",
   "id": "9b67b8c2-4e75-4d80-9e2d-79fd01934d28",
   "metadata": {},
   "source": [
    "We can take the mean, and we would expect that to be centered right in the middle of the triangular distribution."
   ]
  },
  {
   "cell_type": "code",
   "execution_count": 94,
   "id": "eda955b3-d85d-452d-af40-620da4aa284f",
   "metadata": {},
   "outputs": [
    {
     "data": {
      "text/plain": [
       "1048.7066714907694"
      ]
     },
     "execution_count": 94,
     "metadata": {},
     "output_type": "execute_result"
    }
   ],
   "source": [
    "mean(data)"
   ]
  },
  {
   "cell_type": "markdown",
   "id": "da875af2-cab6-48af-aeb0-75112226b3d5",
   "metadata": {},
   "source": [
    "1048 is just about in the middle, and we can check out its population standard deviation, which is like we would expect."
   ]
  },
  {
   "cell_type": "code",
   "execution_count": 95,
   "id": "e87960b5-6b93-479a-9e46-191551a897d6",
   "metadata": {},
   "outputs": [
    {
     "data": {
      "text/plain": [
       "20.122912471146602"
      ]
     },
     "execution_count": 95,
     "metadata": {},
     "output_type": "execute_result"
    }
   ],
   "source": [
    "stdev(data)"
   ]
  },
  {
   "cell_type": "markdown",
   "id": "3bc28538-723f-48cd-9a9b-20524770527c",
   "metadata": {},
   "source": [
    "Now, let's try the same thing for a uniform distribution. Our expectation is that the mean will also be in the center; however, the standard deviation will be much wider because it's been flattened out."
   ]
  },
  {
   "cell_type": "code",
   "execution_count": 96,
   "id": "0efb312f-4bb5-4fcd-aae1-4e3d549a8c5a",
   "metadata": {},
   "outputs": [],
   "source": [
    "data = [uniform(a=1000, b=1100) for i in range(1000)]"
   ]
  },
  {
   "cell_type": "code",
   "execution_count": 97,
   "id": "a8a6cb3a-838d-4bc9-a9d6-faed04df5977",
   "metadata": {},
   "outputs": [
    {
     "data": {
      "text/plain": [
       "1051.1985410381749"
      ]
     },
     "execution_count": 97,
     "metadata": {},
     "output_type": "execute_result"
    }
   ],
   "source": [
    "mean(data)"
   ]
  },
  {
   "cell_type": "code",
   "execution_count": 98,
   "id": "e2c1177d-c42c-47b3-875f-77477a55ca5d",
   "metadata": {},
   "outputs": [
    {
     "data": {
      "text/plain": [
       "28.468072698653245"
      ]
     },
     "execution_count": 98,
     "metadata": {},
     "output_type": "execute_result"
    }
   ],
   "source": [
    "stdev(data)"
   ]
  },
  {
   "cell_type": "markdown",
   "id": "4cf1d433-425d-4fd0-80ac-dd08aa6a8b06",
   "metadata": {},
   "source": [
    "Let's look at the gaussian distribution. This one should have very predictable results. We've told it that we want the mean to be 100 and that we want the standard deviation to be 15."
   ]
  },
  {
   "cell_type": "code",
   "execution_count": 99,
   "id": "46a78de8-9cbb-4c75-a13c-5de042771dda",
   "metadata": {},
   "outputs": [],
   "source": [
    "data = [gauss(mu=100, sigma=15) for i in range(1000)]"
   ]
  },
  {
   "cell_type": "markdown",
   "id": "36dfef6a-4ed0-4197-bd8f-6351dda64678",
   "metadata": {},
   "source": [
    "So the mean of data and standard deviation of data; I'm hoping that that'll come out to be around 100 and 15 respectively."
   ]
  },
  {
   "cell_type": "code",
   "execution_count": 100,
   "id": "fe6ce8c7-364b-4d8b-84c4-59b4d75f0e44",
   "metadata": {},
   "outputs": [
    {
     "data": {
      "text/plain": [
       "100.25337488818245"
      ]
     },
     "execution_count": 100,
     "metadata": {},
     "output_type": "execute_result"
    }
   ],
   "source": [
    "mean(data)"
   ]
  },
  {
   "cell_type": "code",
   "execution_count": 101,
   "id": "490b4803-a063-4606-875b-39e95e241c4b",
   "metadata": {},
   "outputs": [
    {
     "data": {
      "text/plain": [
       "15.304329132339166"
      ]
     },
     "execution_count": 101,
     "metadata": {},
     "output_type": "execute_result"
    }
   ],
   "source": [
    "stdev(data)"
   ]
  },
  {
   "cell_type": "markdown",
   "id": "456ebd15-64dd-489a-b27f-95e13b0825e8",
   "metadata": {},
   "source": [
    "And my hopes were matched."
   ]
  },
  {
   "cell_type": "markdown",
   "id": "381bbf47-5eb7-4bb1-9622-e90ccc854551",
   "metadata": {},
   "source": [
    "Expovariate was the one that I found to be surprising when I first started to use it. Expovariate of 20 is going to give us an average very close to 1/20, not 20 itself; and these are used to simulate arrival times in a queuing system. And so if you're simulating the arrival of packets in a network or arrival rate of request from users, expovariate is a really good way to model this because every now and then, users aren't going to request anything at all and then a whole bunch of packets or requests will show up all at the same time."
   ]
  },
  {
   "cell_type": "code",
   "execution_count": 102,
   "id": "dfea98ef-d565-4dcb-a383-21adbe37dbf8",
   "metadata": {},
   "outputs": [],
   "source": [
    "data = [expovariate(lambd=20) for i in range(1000)]"
   ]
  },
  {
   "cell_type": "code",
   "execution_count": 103,
   "id": "202238eb-422d-4abe-8916-9bbb438f7754",
   "metadata": {},
   "outputs": [
    {
     "data": {
      "text/plain": [
       "0.04672929739028364"
      ]
     },
     "execution_count": 103,
     "metadata": {},
     "output_type": "execute_result"
    }
   ],
   "source": [
    "mean(data)"
   ]
  },
  {
   "cell_type": "code",
   "execution_count": 104,
   "id": "facad7e3-1046-46e3-80d1-8677a3084672",
   "metadata": {},
   "outputs": [
    {
     "data": {
      "text/plain": [
       "0.04694950835620672"
      ]
     },
     "execution_count": 104,
     "metadata": {},
     "output_type": "execute_result"
    }
   ],
   "source": [
    "stdev(data)"
   ]
  },
  {
   "cell_type": "markdown",
   "id": "b0978450-852f-4e2b-8666-74e0a440806c",
   "metadata": {},
   "source": [
    "So the mean of this is, in fact, about one-twentieth. The standard deviation is broader than most people expect because this is an exponential distribution so occasionally you get really large outliers. And so those are the continuous distributions."
   ]
  },
  {
   "cell_type": "markdown",
   "id": "032f1522-caf1-45d6-aa3e-1685d12a768b",
   "metadata": {},
   "source": [
    "The next thing I'd like to show is some of the discrete distributions. We've got choice, something new, choices; and something else, a sample, and shuffle."
   ]
  },
  {
   "cell_type": "code",
   "execution_count": 105,
   "id": "a88d2b3d-942e-40fb-8ea6-561ed926e8e9",
   "metadata": {},
   "outputs": [],
   "source": [
    "from random import choice, choices, sample, shuffle"
   ]
  },
  {
   "cell_type": "markdown",
   "id": "8c8bdc92-ffc7-4d82-b8cd-197bcab0ffe1",
   "metadata": {},
   "source": [
    "So choice is fantastic. It's typically used to pick a single choice out of a list. So I could have some outcomes which are win, lose, draw, play again, and a double win. "
   ]
  },
  {
   "cell_type": "code",
   "execution_count": 106,
   "id": "2c9a68f8-7d27-4737-b590-edbb2b5520c8",
   "metadata": {},
   "outputs": [],
   "source": [
    "outcomes = [\"win\", \"lose\", \"draw\", \"play again\", \"double win\"]"
   ]
  },
  {
   "cell_type": "markdown",
   "id": "c4960e7f-5127-44b8-8053-226fa61a7345",
   "metadata": {},
   "source": [
    "Several possible outcomes, and if I were to pick a choice of those outcomes, it just gives me a single one; and it's equidistributed."
   ]
  },
  {
   "cell_type": "code",
   "execution_count": 107,
   "id": "3ec33385-4365-4643-978b-211c642e76f8",
   "metadata": {},
   "outputs": [
    {
     "data": {
      "text/plain": [
       "'double win'"
      ]
     },
     "execution_count": 107,
     "metadata": {},
     "output_type": "execute_result"
    }
   ],
   "source": [
    "choice(outcomes)"
   ]
  },
  {
   "cell_type": "code",
   "execution_count": 108,
   "id": "b982c179-591c-41da-baaa-3d8308022fc7",
   "metadata": {},
   "outputs": [
    {
     "data": {
      "text/plain": [
       "'lose'"
      ]
     },
     "execution_count": 108,
     "metadata": {},
     "output_type": "execute_result"
    }
   ],
   "source": [
    "choice(outcomes)"
   ]
  },
  {
   "cell_type": "code",
   "execution_count": 109,
   "id": "1e3f9549-aac0-4637-989a-1e5b1a2a5390",
   "metadata": {},
   "outputs": [
    {
     "data": {
      "text/plain": [
       "'lose'"
      ]
     },
     "execution_count": 109,
     "metadata": {},
     "output_type": "execute_result"
    }
   ],
   "source": [
    "choice(outcomes)"
   ]
  },
  {
   "cell_type": "code",
   "execution_count": 110,
   "id": "ce942bc5-7281-48af-8412-855ac892b430",
   "metadata": {},
   "outputs": [
    {
     "data": {
      "text/plain": [
       "'play again'"
      ]
     },
     "execution_count": 110,
     "metadata": {},
     "output_type": "execute_result"
    }
   ],
   "source": [
    "choice(outcomes)"
   ]
  },
  {
   "cell_type": "markdown",
   "id": "db13f43f-025e-4c2a-94bd-fd150c63a20a",
   "metadata": {},
   "source": [
    "Sometimes we want to make multiple choices and so that we just turn this into a plural, and we tell it how many we want. I would like to choose 10 times, straightforward enough. "
   ]
  },
  {
   "cell_type": "code",
   "execution_count": 111,
   "id": "85a68b1c-816d-46ba-bb0d-25730201c0bd",
   "metadata": {},
   "outputs": [
    {
     "data": {
      "text/plain": [
       "['double win',\n",
       " 'double win',\n",
       " 'draw',\n",
       " 'lose',\n",
       " 'double win',\n",
       " 'double win',\n",
       " 'win',\n",
       " 'double win',\n",
       " 'win',\n",
       " 'double win']"
      ]
     },
     "execution_count": 111,
     "metadata": {},
     "output_type": "execute_result"
    }
   ],
   "source": [
    "choices(outcomes, k=10)"
   ]
  },
  {
   "cell_type": "markdown",
   "id": "d0fe411c-ded9-4f8c-9804-14e977ad0f72",
   "metadata": {},
   "source": [
    "Something that's kind of cool about this is we can now use it with collections counter, and these tools fit together really well; and we can see how often we got a particular outcome. The display of the counter shows the most frequent to the least frequent along the way. "
   ]
  },
  {
   "cell_type": "code",
   "execution_count": 112,
   "id": "e4e311ce-68bd-4b93-b5ff-c1d202ec10ae",
   "metadata": {},
   "outputs": [],
   "source": [
    "seed(8675309)"
   ]
  },
  {
   "cell_type": "code",
   "execution_count": 113,
   "id": "24c62ccb-e4d3-481d-8c30-c0093aa53d95",
   "metadata": {},
   "outputs": [],
   "source": [
    "from collections import Counter"
   ]
  },
  {
   "cell_type": "code",
   "execution_count": 114,
   "id": "41defe49-efdc-435b-94f0-8ddff605786e",
   "metadata": {},
   "outputs": [
    {
     "data": {
      "text/plain": [
       "Counter({'draw': 2, 'play again': 4, 'double win': 1, 'lose': 2, 'win': 1})"
      ]
     },
     "execution_count": 114,
     "metadata": {},
     "output_type": "execute_result"
    }
   ],
   "source": [
    "Counter(choices(outcomes, k=10))"
   ]
  },
  {
   "cell_type": "markdown",
   "id": "430cd830-3884-491a-a03c-af542e53892f",
   "metadata": {},
   "source": [
    "That said, these are somewhat evenly distributed. For instance, if I were to go out to run this 10000 times, you'll see that each of these occurred with about the same frequency. Double win happened slightly less and lose slightly more, but they're all roughly centered around 2000. "
   ]
  },
  {
   "cell_type": "code",
   "execution_count": 115,
   "id": "8289820a-5da3-4fd5-a75a-87c80eb4887c",
   "metadata": {},
   "outputs": [
    {
     "data": {
      "text/plain": [
       "Counter({'win': 1970,\n",
       "         'double win': 1967,\n",
       "         'play again': 2023,\n",
       "         'lose': 2067,\n",
       "         'draw': 1973})"
      ]
     },
     "execution_count": 115,
     "metadata": {},
     "output_type": "execute_result"
    }
   ],
   "source": [
    "Counter(choices(outcomes, k=10000))"
   ]
  },
  {
   "cell_type": "markdown",
   "id": "3cd95da3-1545-4d2f-9ca7-f774dab8ca84",
   "metadata": {},
   "source": [
    "What if I'd like to change that? One thing that choices can do that choice can't is that we can supply some weights to the outcome, and I'd say I would like to have the first outcome of win occur five times to four losses compared to three draws, two play again, and only one double win; and so I'm expecting that with this change we'll get the outcomes in a different ratio: a ratio of five to four to three to two to one. "
   ]
  },
  {
   "cell_type": "code",
   "execution_count": 116,
   "id": "1e584117-13d9-4f4d-9a43-3fc3183dc6b1",
   "metadata": {},
   "outputs": [
    {
     "data": {
      "text/plain": [
       "Counter({'draw': 2001,\n",
       "         'win': 3322,\n",
       "         'lose': 2646,\n",
       "         'play again': 1355,\n",
       "         'double win': 676})"
      ]
     },
     "execution_count": 116,
     "metadata": {},
     "output_type": "execute_result"
    }
   ],
   "source": [
    "Counter(choices(outcomes, [5, 4, 3, 2, 1], k=10000))"
   ]
  },
  {
   "cell_type": "markdown",
   "id": "fae1b318-91da-4e66-949e-2d2b0f7735ee",
   "metadata": {},
   "source": [
    "And you could see roughly that distribution here. So we have five times as many wins as double wins. "
   ]
  },
  {
   "cell_type": "markdown",
   "id": "4f100a29-1d45-4b32-9236-3e1ed4b3f632",
   "metadata": {},
   "source": [
    "Another thing we can do with the outcomes is shuffle them. So let's look at them unshuffled and then shuffled. Shuffle is a little bit like sort in that it works in place. So it actually mutates the input, whereas nothing else mutated the input."
   ]
  },
  {
   "cell_type": "code",
   "execution_count": 117,
   "id": "1364e017-8054-46a9-b9f5-1139a79db94b",
   "metadata": {},
   "outputs": [
    {
     "data": {
      "text/plain": [
       "['win', 'lose', 'draw', 'play again', 'double win']"
      ]
     },
     "execution_count": 117,
     "metadata": {},
     "output_type": "execute_result"
    }
   ],
   "source": [
    "outcomes"
   ]
  },
  {
   "cell_type": "code",
   "execution_count": 118,
   "id": "b528b638-168b-4abf-ab5c-957758ef8ae2",
   "metadata": {},
   "outputs": [],
   "source": [
    "shuffle(outcomes)"
   ]
  },
  {
   "cell_type": "code",
   "execution_count": 119,
   "id": "a0edd1b6-eae2-4496-811e-6d51e61823c8",
   "metadata": {},
   "outputs": [
    {
     "data": {
      "text/plain": [
       "['draw', 'lose', 'double win', 'win', 'play again']"
      ]
     },
     "execution_count": 119,
     "metadata": {},
     "output_type": "execute_result"
    }
   ],
   "source": [
    "outcomes"
   ]
  },
  {
   "cell_type": "markdown",
   "id": "57773105-8035-4b97-ab9d-6dfc6671c64a",
   "metadata": {},
   "source": [
    " Now, earlier, we saw that when we made multiple choices, if I chose five times, that there might be some duplications in there. If I'd like to choose without duplication and do sampling without replacement, there is sample, which has a similar format; and so sample of outcomes with key before says choose four of these outcomes, but with no duplicates at all. "
   ]
  },
  {
   "cell_type": "code",
   "execution_count": 120,
   "id": "a01a50cb-24eb-4f0b-846a-9a28eb90ca87",
   "metadata": {},
   "outputs": [
    {
     "data": {
      "text/plain": [
       "['lose', 'play again', 'double win', 'win']"
      ]
     },
     "execution_count": 120,
     "metadata": {},
     "output_type": "execute_result"
    }
   ],
   "source": [
    "sample(outcomes, k=4)"
   ]
  },
  {
   "cell_type": "markdown",
   "id": "68565e39-b944-4850-9bc1-855236c46b15",
   "metadata": {},
   "source": [
    "So that's sampling without replacement."
   ]
  },
  {
   "cell_type": "markdown",
   "id": "9884e4df-6e50-4772-870e-267c83cc1847",
   "metadata": {},
   "source": [
    "So if I would like to choose numbers for a California lottery, these tools combine very nicely. We can take a sample, and the lottery numbers are in the range of 1 to 56 inclusive; and you have to get six numbers right. We chose sample because the lottery doesn't choose any two numbers twice, so it samples without replacement. And when the lottery-winning numbers are published, they publish them in sorted order to make it easier to figure out whether you've won or whether you're going to be teaching Python for the rest of your life. Let's see how I did. Oh, it looks like I'll be teaching Python for the rest of my life."
   ]
  },
  {
   "cell_type": "code",
   "execution_count": 121,
   "id": "349f64ef-787b-4c99-90c7-3cc6fe846107",
   "metadata": {},
   "outputs": [
    {
     "data": {
      "text/plain": [
       "[3, 12, 27, 48, 50, 55]"
      ]
     },
     "execution_count": 121,
     "metadata": {},
     "output_type": "execute_result"
    }
   ],
   "source": [
    "sorted(sample(range(1, 57), k=6))"
   ]
  },
  {
   "cell_type": "markdown",
   "id": "9ee1e04a-f223-4b55-b79a-10552abbe139",
   "metadata": {},
   "source": [
    "All right. So that's sampling without replacement. Sampling with replacement, weighted average sampling, one of the things that I can do for you, besides giving you a little tour of these features, is to show you some of the relationships between all of them. What if you took a sample of the outcomes and only wanted one of them? The data type it would give you is a list, a list of length one; and the first element of that list is zero."
   ]
  },
  {
   "cell_type": "code",
   "execution_count": 122,
   "id": "4a5892ce-addb-46e8-9eec-3ee8dc627835",
   "metadata": {},
   "outputs": [
    {
     "data": {
      "text/plain": [
       "'draw'"
      ]
     },
     "execution_count": 122,
     "metadata": {},
     "output_type": "execute_result"
    }
   ],
   "source": [
    "sample(outcomes, k=1)[0]"
   ]
  },
  {
   "cell_type": "markdown",
   "id": "c1f50dca-8d84-4c95-8f68-415d8ae26012",
   "metadata": {},
   "source": [
    "This code is exactly the equivalent of choice."
   ]
  },
  {
   "cell_type": "code",
   "execution_count": 123,
   "id": "1e384295-cdf8-4d23-9727-3554adc9d406",
   "metadata": {},
   "outputs": [
    {
     "data": {
      "text/plain": [
       "'lose'"
      ]
     },
     "execution_count": 123,
     "metadata": {},
     "output_type": "execute_result"
    }
   ],
   "source": [
    "choice(outcomes)"
   ]
  },
  {
   "cell_type": "markdown",
   "id": "c6c64143-04cd-4a96-b601-e5821757c398",
   "metadata": {},
   "source": [
    "What we've discovered here is that choice is really a special case of a sample."
   ]
  },
  {
   "cell_type": "markdown",
   "id": "7c585c77-d713-47e5-a216-e41ad5a69ea1",
   "metadata": {},
   "source": [
    "Now what we could do is shuffle all of the outcomes and then take a look at what the outcomes are, but there's another way to do that. I could've sampled the outcomes where k is the length of the outcomes."
   ]
  },
  {
   "cell_type": "code",
   "execution_count": 124,
   "id": "e9cc747c-bb0a-4748-80d6-a9fc3d4a55bf",
   "metadata": {},
   "outputs": [
    {
     "data": {
      "text/plain": [
       "['double win', 'draw', 'play again', 'win', 'lose']"
      ]
     },
     "execution_count": 124,
     "metadata": {},
     "output_type": "execute_result"
    }
   ],
   "source": [
    "sample(outcomes, k=len(outcomes))"
   ]
  },
  {
   "cell_type": "markdown",
   "id": "becc1075-6780-4284-a1c5-1fe23f4e5794",
   "metadata": {},
   "source": [
    "What this shows us is that really shuffle is just a special case of sample where you've sampled them all, and choice is a special case of sample where you've sampled just one. "
   ]
  },
  {
   "cell_type": "markdown",
   "id": "e211ade8-2147-4d25-83d3-e832ccdd8451",
   "metadata": {},
   "source": [
    "In fact, all of these functions are quite related to each other. That said, you rarely want to use this style and would instead prefer saying shuffle to shuffle and choice for a single choice; and then the interesting one is choices itself, which allows sampling with replacement. So I hope you enjoyed that little tour of Python. Some of this might've seemed basic to some of you; some of you might've thought that some parts were new. I think your favorite part is going to be f-strings. That said, these represent the core tools that we use in data analytics. So very soon, in our next lesson, we're about to go put all of these things together and see how they can be used for data analytics. I think you're going to see that even though the tools are simple, they can be combined together to express big ideas. Remember, the theme of our overall presentation here is a lot of people write way too much code. They take way too many lines to express their ideas; and in doing so, the ideas become muddy, the code becomes hard to change, and it doesn't become very expressive. What I'd like to teach you is to write Python and enjoy it the way I do, to express big ideas with only a little amount of code. And so what's coming up next is resampling statistics. Don't let the statistics part scare you off. It's going to be very approachable, and we're going to be able to do things that will be easy for us that are hard for other people, in part, because they're using statistics the way they were taught in school. Resampling statistics is fun, it's easy, it takes very little code, and we've now laid all of the groundwork for it."
   ]
  },
  {
   "cell_type": "markdown",
   "id": "49b6efc7-0d09-43e2-874f-a9ae42a22741",
   "metadata": {},
   "source": [
    "\n",
    "\n",
    "\n",
    "\n",
    "\n",
    "        "
   ]
  }
 ],
 "metadata": {
  "kernelspec": {
   "display_name": "Python 3 (ipykernel)",
   "language": "python",
   "name": "python3"
  },
  "language_info": {
   "codemirror_mode": {
    "name": "ipython",
    "version": 3
   },
   "file_extension": ".py",
   "mimetype": "text/x-python",
   "name": "python",
   "nbconvert_exporter": "python",
   "pygments_lexer": "ipython3",
   "version": "3.10.6"
  }
 },
 "nbformat": 4,
 "nbformat_minor": 5
}
